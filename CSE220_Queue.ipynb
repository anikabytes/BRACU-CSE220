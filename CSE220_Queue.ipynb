{
  "nbformat": 4,
  "nbformat_minor": 0,
  "metadata": {
    "colab": {
      "provenance": []
    },
    "kernelspec": {
      "name": "python3",
      "display_name": "Python 3"
    },
    "language_info": {
      "name": "python"
    }
  },
  "cells": [
    {
      "cell_type": "code",
      "execution_count": null,
      "metadata": {
        "colab": {
          "base_uri": "https://localhost:8080/"
        },
        "id": "-pQnacV31RIC",
        "outputId": "33bedc16-bb97-4ed7-bf59-9011e65c2382"
      },
      "outputs": [
        {
          "output_type": "stream",
          "name": "stdout",
          "text": [
            "*************\n",
            "StackUnderflowError\n",
            "[0, 0, 0, 0, 0]\n",
            "0\n"
          ]
        }
      ],
      "source": [
        "class arrayQueue :\n",
        "\n",
        "    rear = 0 \n",
        "    front = 0 \n",
        "\n",
        "    def __init__(self,cap) :\n",
        "\n",
        "        self.array = [0]*cap \n",
        "        \n",
        "    def enqueue(self,val) :\n",
        "\n",
        "        if self.array[self.rear] != 0 :\n",
        "            print('StackOverflowError')\n",
        "        self.array[self.rear] = val \n",
        "        self.rear = (self.rear+1)%len(self.array)\n",
        "    \n",
        "    def dequeue(self) :\n",
        "        if self.array[self.front] == 0 :\n",
        "            print('StackUnderflowError')\n",
        "        self.array[self.front] = 0 \n",
        "        self.front = (self.front+1)%len(self.array)\n",
        "    \n",
        "    def peek(self) :\n",
        "\n",
        "        return self.array[self.front]\n",
        "        \n",
        "        \n",
        "        \n",
        "    def print(self) :\n",
        "        print(self.array)\n",
        "\n",
        "a = arrayQueue(5)\n",
        "print('*************')\n",
        "a.enqueue(10)\n",
        "a.enqueue(20)\n",
        "a.enqueue(30)\n",
        "a.enqueue(40)\n",
        "a.enqueue(50)\n",
        "a.dequeue()\n",
        "a.dequeue()\n",
        "a.dequeue()\n",
        "a.dequeue()\n",
        "a.dequeue()\n",
        "a.dequeue()\n",
        "a.print()\n",
        "print(a.peek())\n",
        "# print('*************')\n",
        "# a.dequeue()\n",
        "# a.dequeue()\n",
        "# # a.dequeue()\n",
        "# # a.dequeue()\n",
        "# a.dequeue()\n",
        "# print('*************')\n",
        "# # a.enqueue(100)\n",
        "# a.enqueue(120)\n",
        "# a.print()\n",
        "# print(a.peek())\n"
      ]
    },
    {
      "cell_type": "code",
      "source": [
        "class Node :\n",
        "    def __init__(self,elem,next) :\n",
        "        self.elem = elem \n",
        "        self.next = next \n",
        "\n",
        "class listQueue :\n",
        "\n",
        "    def __init__(self) :\n",
        "        self.head = None \n",
        "        self.tail = None \n",
        "        \n",
        "    def enqueue(self,val) :\n",
        "\n",
        "        temp = Node(val,None)\n",
        "        if self.head == None :\n",
        "            self.head = temp \n",
        "            self.tail = self.head \n",
        "        else :\n",
        "            self.tail.next = temp \n",
        "            self.tail = temp\n",
        "        \n",
        "    def dequeue(self) :\n",
        "\n",
        "        self.head = self.head.next \n",
        "    \n",
        "    def peek(self) :\n",
        "\n",
        "        return self.head \n",
        "        \n",
        "        \n",
        "        \n",
        "    def print(self) :\n",
        "        n = self.head \n",
        "        while n != None :\n",
        "            print(n.elem)\n",
        "            n = n.next \n",
        "\n",
        "a = listQueue()\n",
        "a.enqueue(10)\n",
        "a.enqueue(20)\n",
        "a.enqueue(30)\n",
        "a.dequeue()\n",
        "a.dequeue()\n",
        "a.dequeue()\n",
        "# a.enqueue(50)\n",
        "a.print()\n"
      ],
      "metadata": {
        "id": "SMZYKtqxfim0"
      },
      "execution_count": null,
      "outputs": []
    }
  ]
}